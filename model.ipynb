{
 "cells": [
  {
   "cell_type": "markdown",
   "id": "c00362b6",
   "metadata": {},
   "source": [
    "# Import Libraries"
   ]
  },
  {
   "cell_type": "code",
   "execution_count": 30,
   "id": "319abe1a",
   "metadata": {},
   "outputs": [],
   "source": [
    "import pandas as pd\n",
    "import numpy as np\n",
    "import matplotlib.pyplot as plt\n",
    "import seaborn as sns\n",
    "\n",
    "import random\n",
    "import os\n",
    "\n",
    "from torch.utils.data import Dataset, DataLoader\n",
    "from sklearn.model_selection import train_test_split\n",
    "import torch"
   ]
  },
  {
   "cell_type": "markdown",
   "id": "50fada3c",
   "metadata": {},
   "source": [
    "# Dataset"
   ]
  },
  {
   "cell_type": "code",
   "execution_count": 308,
   "id": "687bd61e",
   "metadata": {},
   "outputs": [],
   "source": [
    "df = pd.read_csv(\"data/NYCTaxiFares.csv\")"
   ]
  },
  {
   "cell_type": "code",
   "execution_count": 309,
   "id": "62dbf4db",
   "metadata": {},
   "outputs": [],
   "source": [
    "data = df.drop(\"fare_amount\", axis=1)\n",
    "label = df.fare_amount"
   ]
  },
  {
   "cell_type": "code",
   "execution_count": 310,
   "id": "b0a9a37e",
   "metadata": {},
   "outputs": [],
   "source": [
    "def haversine_distance(df, lat1, long1, lat2, long2):\n",
    "\n",
    "    r = 6371  # average radius of Earth in kilometers\n",
    "\n",
    "    phi1 = np.radians(df[lat1])\n",
    "    phi2 = np.radians(df[lat2])\n",
    "\n",
    "    delta_phi = np.radians(df[lat2]-df[lat1])\n",
    "    delta_lambda = np.radians(df[long2]-df[long1])\n",
    "\n",
    "    a = np.sin(delta_phi/2)**2 + np.cos(phi1) * \\\n",
    "        np.cos(phi2) * np.sin(delta_lambda/2)**2\n",
    "    c = 2 * np.arctan2(np.sqrt(a), np.sqrt(1-a))\n",
    "    d = (r * c)  # in kilometers\n",
    "\n",
    "    return d"
   ]
  },
  {
   "cell_type": "code",
   "execution_count": 311,
   "id": "86098de9",
   "metadata": {},
   "outputs": [],
   "source": [
    "data['dist_km'] = haversine_distance(\n",
    "        data, 'pickup_latitude', 'pickup_longitude', 'dropoff_latitude', 'dropoff_longitude')"
   ]
  },
  {
   "cell_type": "code",
   "execution_count": 312,
   "id": "a8834752",
   "metadata": {},
   "outputs": [],
   "source": [
    "data['EDTdate'] = pd.to_datetime(\n",
    "        data['pickup_datetime'].str[:19]) - pd.Timedelta(hours=4)\n",
    "\n",
    "data['Hour'] = data['EDTdate'].dt.hour\n",
    "data['AMorPM'] = np.where(data['Hour'] < 12, 'am', 'pm')\n",
    "data['Weekday'] = data['EDTdate'].dt.strftime(\"%a\")"
   ]
  },
  {
   "cell_type": "code",
   "execution_count": 313,
   "id": "1dfcde3d",
   "metadata": {},
   "outputs": [],
   "source": [
    "data.drop([\"pickup_datetime\", \"EDTdate\"], axis=1, inplace=True)"
   ]
  },
  {
   "cell_type": "code",
   "execution_count": 314,
   "id": "79cf0abc",
   "metadata": {},
   "outputs": [],
   "source": [
    "categorical_columns = [\"Hour\", \"AMorPM\", \"Weekday\"]\n",
    "numeric_columns = [column for column in data.columns if column not in set(categorical_columns)]"
   ]
  },
  {
   "cell_type": "code",
   "execution_count": 315,
   "id": "6d31f751",
   "metadata": {},
   "outputs": [
    {
     "data": {
      "text/plain": [
       "['Hour', 'AMorPM', 'Weekday']"
      ]
     },
     "execution_count": 315,
     "metadata": {},
     "output_type": "execute_result"
    }
   ],
   "source": [
    "categorical_columns"
   ]
  },
  {
   "cell_type": "code",
   "execution_count": 316,
   "id": "891312a8",
   "metadata": {},
   "outputs": [
    {
     "data": {
      "text/plain": [
       "['fare_class',\n",
       " 'pickup_longitude',\n",
       " 'pickup_latitude',\n",
       " 'dropoff_longitude',\n",
       " 'dropoff_latitude',\n",
       " 'passenger_count',\n",
       " 'dist_km']"
      ]
     },
     "execution_count": 316,
     "metadata": {},
     "output_type": "execute_result"
    }
   ],
   "source": [
    "numeric_columns"
   ]
  },
  {
   "cell_type": "code",
   "execution_count": 317,
   "id": "4b6281ea",
   "metadata": {},
   "outputs": [],
   "source": [
    "for categorical_column in categorical_columns:\n",
    "    data[categorical_column] = data[categorical_column].astype(\"category\")"
   ]
  },
  {
   "cell_type": "code",
   "execution_count": 318,
   "id": "0a81da41",
   "metadata": {},
   "outputs": [],
   "source": [
    "data['Hour'] = data['Hour'].cat.codes.values\n",
    "data['AMorPM'] = data['AMorPM'].cat.codes.values\n",
    "data['Weekday'] = data['Weekday'].cat.codes.values"
   ]
  },
  {
   "cell_type": "code",
   "execution_count": 319,
   "id": "946d00da",
   "metadata": {},
   "outputs": [
    {
     "data": {
      "text/html": [
       "<div>\n",
       "<style scoped>\n",
       "    .dataframe tbody tr th:only-of-type {\n",
       "        vertical-align: middle;\n",
       "    }\n",
       "\n",
       "    .dataframe tbody tr th {\n",
       "        vertical-align: top;\n",
       "    }\n",
       "\n",
       "    .dataframe thead th {\n",
       "        text-align: right;\n",
       "    }\n",
       "</style>\n",
       "<table border=\"1\" class=\"dataframe\">\n",
       "  <thead>\n",
       "    <tr style=\"text-align: right;\">\n",
       "      <th></th>\n",
       "      <th>fare_class</th>\n",
       "      <th>pickup_longitude</th>\n",
       "      <th>pickup_latitude</th>\n",
       "      <th>dropoff_longitude</th>\n",
       "      <th>dropoff_latitude</th>\n",
       "      <th>passenger_count</th>\n",
       "      <th>dist_km</th>\n",
       "      <th>Hour</th>\n",
       "      <th>AMorPM</th>\n",
       "      <th>Weekday</th>\n",
       "    </tr>\n",
       "  </thead>\n",
       "  <tbody>\n",
       "    <tr>\n",
       "      <th>0</th>\n",
       "      <td>0</td>\n",
       "      <td>-73.992365</td>\n",
       "      <td>40.730521</td>\n",
       "      <td>-73.975499</td>\n",
       "      <td>40.744746</td>\n",
       "      <td>1</td>\n",
       "      <td>2.126312</td>\n",
       "      <td>4</td>\n",
       "      <td>0</td>\n",
       "      <td>1</td>\n",
       "    </tr>\n",
       "    <tr>\n",
       "      <th>1</th>\n",
       "      <td>0</td>\n",
       "      <td>-73.990078</td>\n",
       "      <td>40.740558</td>\n",
       "      <td>-73.974232</td>\n",
       "      <td>40.744114</td>\n",
       "      <td>1</td>\n",
       "      <td>1.392307</td>\n",
       "      <td>11</td>\n",
       "      <td>0</td>\n",
       "      <td>2</td>\n",
       "    </tr>\n",
       "    <tr>\n",
       "      <th>2</th>\n",
       "      <td>1</td>\n",
       "      <td>-73.994149</td>\n",
       "      <td>40.751118</td>\n",
       "      <td>-73.960064</td>\n",
       "      <td>40.766235</td>\n",
       "      <td>2</td>\n",
       "      <td>3.326763</td>\n",
       "      <td>7</td>\n",
       "      <td>0</td>\n",
       "      <td>2</td>\n",
       "    </tr>\n",
       "    <tr>\n",
       "      <th>3</th>\n",
       "      <td>0</td>\n",
       "      <td>-73.990485</td>\n",
       "      <td>40.756422</td>\n",
       "      <td>-73.971205</td>\n",
       "      <td>40.748192</td>\n",
       "      <td>1</td>\n",
       "      <td>1.864129</td>\n",
       "      <td>17</td>\n",
       "      <td>1</td>\n",
       "      <td>3</td>\n",
       "    </tr>\n",
       "    <tr>\n",
       "      <th>4</th>\n",
       "      <td>1</td>\n",
       "      <td>-73.990976</td>\n",
       "      <td>40.734202</td>\n",
       "      <td>-73.905956</td>\n",
       "      <td>40.743115</td>\n",
       "      <td>1</td>\n",
       "      <td>7.231321</td>\n",
       "      <td>22</td>\n",
       "      <td>1</td>\n",
       "      <td>0</td>\n",
       "    </tr>\n",
       "  </tbody>\n",
       "</table>\n",
       "</div>"
      ],
      "text/plain": [
       "   fare_class  pickup_longitude  pickup_latitude  dropoff_longitude  \\\n",
       "0           0        -73.992365        40.730521         -73.975499   \n",
       "1           0        -73.990078        40.740558         -73.974232   \n",
       "2           1        -73.994149        40.751118         -73.960064   \n",
       "3           0        -73.990485        40.756422         -73.971205   \n",
       "4           1        -73.990976        40.734202         -73.905956   \n",
       "\n",
       "   dropoff_latitude  passenger_count   dist_km  Hour  AMorPM  Weekday  \n",
       "0         40.744746                1  2.126312     4       0        1  \n",
       "1         40.744114                1  1.392307    11       0        2  \n",
       "2         40.766235                2  3.326763     7       0        2  \n",
       "3         40.748192                1  1.864129    17       1        3  \n",
       "4         40.743115                1  7.231321    22       1        0  "
      ]
     },
     "execution_count": 319,
     "metadata": {},
     "output_type": "execute_result"
    }
   ],
   "source": [
    "data.head()"
   ]
  },
  {
   "cell_type": "code",
   "execution_count": 342,
   "id": "4002eb50",
   "metadata": {},
   "outputs": [],
   "source": [
    "X_train, X_test, y_train, y_test = train_test_split(data[:200].values, label[:200].values, test_size=0.33, random_state=42)"
   ]
  },
  {
   "cell_type": "code",
   "execution_count": 343,
   "id": "51d06b22",
   "metadata": {},
   "outputs": [],
   "source": [
    "class NYCTaxiFare(Dataset):\n",
    "    def __init__(self, data, label):\n",
    "        self.data = data\n",
    "        self.label = label\n",
    "    \n",
    "    def __len__(self):\n",
    "        return len(self.data)\n",
    "    \n",
    "    def __getitem__(self, idx):\n",
    "        \n",
    "        current_data = self.data[idx, :]\n",
    "        current_label = self.label[idx]\n",
    "        \n",
    "        return (\n",
    "            torch.tensor(current_data, dtype=torch.float64),\n",
    "            torch.tensor(current_label, dtype=torch.float64)\n",
    "        )\n",
    "        "
   ]
  },
  {
   "cell_type": "code",
   "execution_count": 344,
   "id": "4e4b6a6b",
   "metadata": {},
   "outputs": [],
   "source": [
    "train_dataset = NYCTaxiFare(X_train, y_train)\n",
    "test_dataset = NYCTaxiFare(X_test, y_test)"
   ]
  },
  {
   "cell_type": "code",
   "execution_count": 345,
   "id": "17db5cba",
   "metadata": {},
   "outputs": [],
   "source": [
    "train_loader = DataLoader(train_dataset, batch_size=32, shuffle=True)\n",
    "test_loader = DataLoader(test_dataset, batch_size=len(test_dataset)//4)"
   ]
  },
  {
   "cell_type": "markdown",
   "id": "2cc6ba14",
   "metadata": {},
   "source": [
    "# Tensor Class"
   ]
  },
  {
   "cell_type": "code",
   "execution_count": 178,
   "id": "c3ed88c8",
   "metadata": {},
   "outputs": [],
   "source": [
    "class ScalerTensor:\n",
    "    def __init__(self, data=0, children=()):\n",
    "        self.data = data\n",
    "        self.grad=0 # defines dloss / dself\n",
    "        self._backward=lambda: None\n",
    "        self._childern=set(children)\n",
    "    \n",
    "    def backward(self, visited_nodes=None):\n",
    "        if visited_nodes is None:\n",
    "            visited_nodes = set([self])\n",
    "            self.grad = 1 # partial derivated w.r.t itself\n",
    "        \n",
    "        self._backward()\n",
    "        \n",
    "        for children in self._childern:\n",
    "            \n",
    "            if children not in visited_nodes:\n",
    "                visited_nodes.add(children)\n",
    "                children.backward(visited_nodes)\n",
    "            \n",
    "    \n",
    "    def __add__(self, second_scaler_tensor):\n",
    "        # make sure second_scaler_tensor is object of ScalerTensor\n",
    "        second_scaler_tensor = second_scaler_tensor if isinstance(second_scaler_tensor, ScalerTensor) else ScalerTensor(second_scaler_tensor)\n",
    "        \n",
    "        output = ScalerTensor(second_scaler_tensor.data + self.data, children=set([self, second_scaler_tensor]))\n",
    "        \n",
    "        # _backward function for output        \n",
    "        def _backward():\n",
    "            # output = self + second_scaler_tensor\n",
    "\n",
    "            # dloss / dself = (dloss / doutput) * (doutput / dself)\n",
    "            # dloss / dself = (dloss / doutput) * (d(self + second_scaler_tensor) / dself)\n",
    "            # dloss / dself = output.grad * [ (dself/ dself) + (dsecond_scaler_tensor/ dself)]\n",
    "            # dloss / dself = output.grad *[1 + 0]\n",
    "\n",
    "            # Similarly\n",
    "            # dloss / dsecond_scaler_tensor = output.grad\n",
    "            \n",
    "            self.grad += output.grad\n",
    "            second_scaler_tensor.grad += output.grad\n",
    "        \n",
    "        setattr(output, '_backward', _backward)\n",
    "        \n",
    "        return output\n",
    "    \n",
    "    def __radd__(self, other): return self + other    \n",
    "    \n",
    "    def __mul__(self, second_scaler_tensor):\n",
    "        # make sure second_scaler_tensor is object of ScalerTensor\n",
    "        second_scaler_tensor = second_scaler_tensor if isinstance(second_scaler_tensor, ScalerTensor) else ScalerTensor(second_scaler_tensor)\n",
    "        \n",
    "        output = ScalerTensor(second_scaler_tensor.data * self.data, children=set([self, second_scaler_tensor]))\n",
    "        \n",
    "        # _backward function for output\n",
    "        def _backward():\n",
    "            # output = self * second_scaler_tensor\n",
    "\n",
    "            # dloss / dself = (dloss / doutput) * (doutput / dself)\n",
    "            # dloss / dself = (dloss / doutput) * (d(self * second_scaler_tensor) / dself)\n",
    "            # dloss / dself = output.grad * [ (dself/ dself) * second_scaler_tensor + (dsecond_scaler_tensor/ dself) * self]\n",
    "            # dloss / dself = output.grad *[second_scaler_tensor + 0]\n",
    "\n",
    "            # Similarly\n",
    "            # dloss / dsecond_scaler_tensor = output.grad * self\n",
    "            self.grad += output.grad * second_scaler_tensor.data\n",
    "            second_scaler_tensor.grad += output.grad * self.data\n",
    "        \n",
    "        setattr(output, '_backward', _backward)\n",
    "        \n",
    "        return output\n",
    "    \n",
    "    def __rmul__(self, other): return self * other\n",
    "    \n",
    "    def __pow__(self, power):\n",
    "        \n",
    "        output = ScalerTensor(self.data ** power, children=set([self]))\n",
    "        \n",
    "        # _backward function for output\n",
    "        def _backward():\n",
    "            # output = self ** power\n",
    "\n",
    "            # dloss / dself = (dloss / doutput) * (doutput / dself)\n",
    "            # dloss / dself = (dloss / doutput) * (d(self ** power) / dself)\n",
    "            # dloss / dself = output.grad * [ power * self ** (power - 1)]\n",
    "            self.grad += output.grad * power * (self.data ** (power - 1))\n",
    "\n",
    "        \n",
    "        setattr(output, '_backward', _backward)\n",
    "        \n",
    "        return output\n",
    "    \n",
    "    def relu(self):\n",
    "        output = ScalerTensor(self.data if self.data > 0 else 0, children=set([self]))\n",
    "        \n",
    "         # _backward function for output\n",
    "        def _backward():\n",
    "            self.grad += (output.data > 0) * output.grad\n",
    "        \n",
    "        setattr(output, '_backward', _backward)\n",
    "        \n",
    "        return output\n",
    "    \n",
    "    def __sub__(self, other): return self + (-1 * other)\n",
    "\n",
    "    def __rsub__(self, other): return (-1 * self) + other\n",
    "    \n",
    "    def __str__(self): return str(self.data)\n",
    "    \n",
    "    def __repr__(self): return str(self.data)"
   ]
  },
  {
   "cell_type": "markdown",
   "id": "e700e60f",
   "metadata": {},
   "source": [
    "## Testing the Scaler Tensor Class"
   ]
  },
  {
   "cell_type": "code",
   "execution_count": 179,
   "id": "167ffc46",
   "metadata": {},
   "outputs": [],
   "source": [
    "# input featues\n",
    "x1 = ScalerTensor(5)\n",
    "x2 = ScalerTensor(10)\n",
    "\n",
    "# weights\n",
    "w1 = ScalerTensor(1)\n",
    "w2 = ScalerTensor(7)\n",
    "\n",
    "# bias\n",
    "b = ScalerTensor(-20)\n",
    "\n",
    "# true value\n",
    "y = ScalerTensor(25)"
   ]
  },
  {
   "cell_type": "code",
   "execution_count": 180,
   "id": "7ed04523",
   "metadata": {},
   "outputs": [],
   "source": [
    "# predicted value\n",
    "y_hat = (x1 * w1) + (x2 * w2) + b"
   ]
  },
  {
   "cell_type": "code",
   "execution_count": 181,
   "id": "ee4c1499",
   "metadata": {},
   "outputs": [],
   "source": [
    "# loss\n",
    "loss = (y_hat - y)**2"
   ]
  },
  {
   "cell_type": "code",
   "execution_count": 182,
   "id": "479deba2",
   "metadata": {},
   "outputs": [
    {
     "data": {
      "text/plain": [
       "900"
      ]
     },
     "execution_count": 182,
     "metadata": {},
     "output_type": "execute_result"
    }
   ],
   "source": [
    "loss.data"
   ]
  },
  {
   "cell_type": "markdown",
   "id": "0b0058cb",
   "metadata": {},
   "source": [
    "### Note: dx = dloss/dx\n",
    "\n",
    "dloss = 1\n",
    "\n",
    "dy_hat = 2 * (y_hat - y) = 60\n",
    "\n",
    "dy = 2 * (y - yhat) = -60\n",
    "\n",
    "dw1 = dy_hat * dy_hat / dw1\n",
    "    = dy_hat * x1 = 300\n",
    "    \n",
    "dw2 = dy_hat * x2 = 600"
   ]
  },
  {
   "cell_type": "code",
   "execution_count": 183,
   "id": "17081a57",
   "metadata": {},
   "outputs": [],
   "source": [
    "loss.backward()"
   ]
  },
  {
   "cell_type": "code",
   "execution_count": 184,
   "id": "74aa9a6e",
   "metadata": {},
   "outputs": [
    {
     "name": "stdout",
     "output_type": "stream",
     "text": [
      "1 60 -60 300 600\n"
     ]
    }
   ],
   "source": [
    "print(loss.grad, y_hat.grad, y.grad, w1.grad, w2.grad)"
   ]
  },
  {
   "cell_type": "markdown",
   "id": "330d7a44",
   "metadata": {},
   "source": [
    "# Layer"
   ]
  },
  {
   "cell_type": "code",
   "execution_count": 207,
   "id": "778330f4",
   "metadata": {},
   "outputs": [],
   "source": [
    "class Layer:\n",
    "    def __init__(self, input_size, output_size, add_relu=True):\n",
    "        self.input_size = input_size\n",
    "        self.output_size = output_size\n",
    "        self.add_relu = add_relu\n",
    "        \n",
    "        self.weights = [[ScalerTensor(random.gauss(0, 1/max(input_size, output_size))) for _ in range(self.output_size)] for _ in range(self.input_size)]\n",
    "        self.bias = [ScalerTensor(random.gauss(0, 1/max(input_size, output_size))) for _ in range(self.output_size)]\n",
    "    \n",
    "    def __call__(self, X):\n",
    "        \n",
    "        y = list()        \n",
    "        for out in range(self.output_size):\n",
    "            neuron_output = 0\n",
    "            for inp in range(self.input_size):\n",
    "                neuron_output += self.weights[inp][out] * X[inp]\n",
    "            \n",
    "            neuron_output = neuron_output + self.bias[out]\n",
    "            if self.add_relu:\n",
    "                neuron_output = neuron_output.relu()\n",
    "            \n",
    "            y.append(neuron_output)\n",
    "        \n",
    "        return y"
   ]
  },
  {
   "cell_type": "markdown",
   "id": "2e39d507",
   "metadata": {},
   "source": [
    "## Testing Layer"
   ]
  },
  {
   "cell_type": "code",
   "execution_count": 215,
   "id": "930a65d5",
   "metadata": {},
   "outputs": [],
   "source": [
    "# input featues\n",
    "x1 = ScalerTensor(5)\n",
    "x2 = ScalerTensor(10)"
   ]
  },
  {
   "cell_type": "code",
   "execution_count": 216,
   "id": "8de91d39",
   "metadata": {},
   "outputs": [],
   "source": [
    "layer = Layer(2, 1)"
   ]
  },
  {
   "cell_type": "code",
   "execution_count": 217,
   "id": "76346b8c",
   "metadata": {},
   "outputs": [],
   "source": [
    "y = layer([x1, x2])"
   ]
  },
  {
   "cell_type": "code",
   "execution_count": 218,
   "id": "a8c4f94a",
   "metadata": {},
   "outputs": [
    {
     "data": {
      "text/plain": [
       "[[0.05348264518643036], [0.7669990523026644]]"
      ]
     },
     "execution_count": 218,
     "metadata": {},
     "output_type": "execute_result"
    }
   ],
   "source": [
    "layer.weights"
   ]
  },
  {
   "cell_type": "code",
   "execution_count": 219,
   "id": "fd24b188",
   "metadata": {},
   "outputs": [
    {
     "data": {
      "text/plain": [
       "[0.10523488178362288]"
      ]
     },
     "execution_count": 219,
     "metadata": {},
     "output_type": "execute_result"
    }
   ],
   "source": [
    "layer.bias"
   ]
  },
  {
   "cell_type": "code",
   "execution_count": 229,
   "id": "e7627617",
   "metadata": {},
   "outputs": [
    {
     "data": {
      "text/plain": [
       "8.042638630742418"
      ]
     },
     "execution_count": 229,
     "metadata": {},
     "output_type": "execute_result"
    }
   ],
   "source": [
    "(x1.data * layer.weights[0][0] + x2.data * layer.weights[1][0] + layer.bias[0]) "
   ]
  },
  {
   "cell_type": "code",
   "execution_count": 230,
   "id": "59962afc",
   "metadata": {},
   "outputs": [
    {
     "data": {
      "text/plain": [
       "8.042638630742418"
      ]
     },
     "execution_count": 230,
     "metadata": {},
     "output_type": "execute_result"
    }
   ],
   "source": [
    "y[0]"
   ]
  },
  {
   "cell_type": "markdown",
   "id": "399b5d7d",
   "metadata": {},
   "source": [
    "# Network"
   ]
  },
  {
   "cell_type": "code",
   "execution_count": 232,
   "id": "8ac1808d",
   "metadata": {},
   "outputs": [],
   "source": [
    "class NeuralNetowrk:\n",
    "    def __init__(self, *layers, learning_rate=0.01):\n",
    "        self.layers = layers\n",
    "        self.learning_rate = learning_rate\n",
    "        \n",
    "        parameters = list()\n",
    "        \n",
    "        for layer in self.layers:\n",
    "            for weights in layer.weights:\n",
    "                parameters.extend(weights)\n",
    "            \n",
    "            parameters.extend(layer.bias)\n",
    "        \n",
    "        self.parameters = parameters\n",
    "  \n",
    "    def update(self):\n",
    "        \n",
    "        for parameter in self.parameters:\n",
    "            parameter.data -= parameter.grad * self.learning_rate\n",
    "    \n",
    "    def zero_grad(self):\n",
    "        \n",
    "        for parameter in self.parameters:\n",
    "            parameter.grad = 0\n",
    "    \n",
    "    def loss(self, y_hat, y):\n",
    "        return ((y_hat - y) ** 2)\n",
    "\n",
    "    def __call__(self, X):\n",
    "        \n",
    "        for layer in self.layers:\n",
    "            X = layer(X)\n",
    "        \n",
    "        return X"
   ]
  },
  {
   "cell_type": "markdown",
   "id": "1b244655",
   "metadata": {},
   "source": [
    "# Training and Evaluation"
   ]
  },
  {
   "cell_type": "code",
   "execution_count": 350,
   "id": "5ff45fe0",
   "metadata": {},
   "outputs": [],
   "source": [
    "model = NeuralNetowrk(Layer(10, 32), Layer(32, 16), Layer(16, 8), Layer(8, 1, add_relu=False))"
   ]
  },
  {
   "cell_type": "code",
   "execution_count": 351,
   "id": "489aebd1",
   "metadata": {},
   "outputs": [
    {
     "name": "stdout",
     "output_type": "stream",
     "text": [
      "<---- Epoch - 1 ---->\n",
      "train_loss: 562.3190576238504\n",
      "validation_loss: 860.5119328506929\n",
      "<---- Epoch - 2 ---->\n",
      "train_loss: 461.85444727390984\n",
      "validation_loss: 579.5967778720793\n",
      "<---- Epoch - 3 ---->\n",
      "train_loss: 234.2682207351505\n",
      "validation_loss: 406.20107633705146\n",
      "<---- Epoch - 4 ---->\n",
      "train_loss: 10815.879257319837\n",
      "validation_loss: 823.3458485473794\n",
      "<---- Epoch - 5 ---->\n",
      "train_loss: 528.9680844809484\n",
      "validation_loss: 752.2315175470678\n",
      "<---- Epoch - 6 ---->\n",
      "train_loss: 397.8345545903924\n",
      "validation_loss: 698.4262238433927\n",
      "<---- Epoch - 7 ---->\n",
      "train_loss: 373.61320910037165\n",
      "validation_loss: 652.1697562245542\n",
      "<---- Epoch - 8 ---->\n",
      "train_loss: 349.8373642875499\n",
      "validation_loss: 612.2702496377984\n",
      "<---- Epoch - 9 ---->\n",
      "train_loss: 347.80869775398907\n",
      "validation_loss: 577.5191751397001\n",
      "<---- Epoch - 10 ---->\n",
      "train_loss: 300.422598691681\n",
      "validation_loss: 549.5031073131597\n",
      "<---- Epoch - 11 ---->\n",
      "train_loss: 270.8189431000713\n",
      "validation_loss: 526.7607382802549\n",
      "<---- Epoch - 12 ---->\n",
      "train_loss: 256.71881120591195\n",
      "validation_loss: 507.1850479715944\n",
      "<---- Epoch - 13 ---->\n",
      "train_loss: 370.5450721944135\n",
      "validation_loss: 486.80249421642276\n",
      "<---- Epoch - 14 ---->\n",
      "train_loss: 250.8359406725149\n",
      "validation_loss: 472.67183801785046\n",
      "<---- Epoch - 15 ---->\n",
      "train_loss: 217.89743593948535\n",
      "validation_loss: 462.0296029048944\n",
      "<---- Epoch - 16 ---->\n",
      "train_loss: 218.59425248749454\n",
      "validation_loss: 452.29486540861836\n",
      "<---- Epoch - 17 ---->\n",
      "train_loss: 225.80097936125162\n",
      "validation_loss: 444.40819471432377\n",
      "<---- Epoch - 18 ---->\n",
      "train_loss: 199.70332601068816\n",
      "validation_loss: 438.10996904876066\n",
      "<---- Epoch - 19 ---->\n",
      "train_loss: 208.35589217614555\n",
      "validation_loss: 431.19921293847244\n",
      "<---- Epoch - 20 ---->\n",
      "train_loss: 284.9216224756499\n",
      "validation_loss: 424.88358295856807\n",
      "<---- Epoch - 21 ---->\n",
      "train_loss: 205.04936529691474\n",
      "validation_loss: 420.68708525619354\n",
      "<---- Epoch - 22 ---->\n",
      "train_loss: 192.8055125543488\n",
      "validation_loss: 417.5279069550063\n",
      "<---- Epoch - 23 ---->\n",
      "train_loss: 198.28920904735477\n",
      "validation_loss: 413.7954810056093\n",
      "<---- Epoch - 24 ---->\n",
      "train_loss: 373.83401206246\n",
      "validation_loss: 408.52226799052994\n",
      "<---- Epoch - 25 ---->\n",
      "train_loss: 185.51860555549675\n",
      "validation_loss: 407.1797689501324\n",
      "<---- Epoch - 26 ---->\n",
      "train_loss: 188.75889921748802\n",
      "validation_loss: 406.4684685483787\n",
      "<---- Epoch - 27 ---->\n",
      "train_loss: 190.8191333773256\n",
      "validation_loss: 405.5361168196803\n",
      "<---- Epoch - 28 ---->\n",
      "train_loss: 215.17990311704614\n",
      "validation_loss: 403.01314682798863\n",
      "<---- Epoch - 29 ---->\n",
      "train_loss: 313.3587287140538\n",
      "validation_loss: 400.93562412277674\n",
      "<---- Epoch - 30 ---->\n",
      "train_loss: 285.53643243599487\n",
      "validation_loss: 398.12261775862487\n",
      "<---- Epoch - 31 ---->\n",
      "train_loss: 192.40374649034433\n",
      "validation_loss: 397.22999980218214\n",
      "<---- Epoch - 32 ---->\n",
      "train_loss: 185.31983006655219\n",
      "validation_loss: 396.3207657184432\n",
      "<---- Epoch - 33 ---->\n",
      "train_loss: 180.28794962229364\n",
      "validation_loss: 396.13089880582345\n",
      "<---- Epoch - 34 ---->\n",
      "train_loss: 262.9838508508934\n",
      "validation_loss: 395.1313784969378\n",
      "<---- Epoch - 35 ---->\n",
      "train_loss: 406.25740817505164\n",
      "validation_loss: 392.2152809312047\n",
      "<---- Epoch - 36 ---->\n",
      "train_loss: 195.08872960313974\n",
      "validation_loss: 391.7608913696578\n",
      "<---- Epoch - 37 ---->\n",
      "train_loss: 186.1229190806314\n",
      "validation_loss: 391.9672469181088\n",
      "<---- Epoch - 38 ---->\n",
      "train_loss: 219.10726572869487\n",
      "validation_loss: 391.5995546287203\n",
      "<---- Epoch - 39 ---->\n",
      "train_loss: 187.82393693129703\n",
      "validation_loss: 391.4372176094858\n",
      "<---- Epoch - 40 ---->\n",
      "train_loss: 187.83882382950802\n",
      "validation_loss: 391.9886122035548\n",
      "<---- Epoch - 41 ---->\n",
      "train_loss: 187.22879862141218\n",
      "validation_loss: 392.4658388154318\n",
      "<---- Epoch - 42 ---->\n",
      "train_loss: 182.09258732569282\n",
      "validation_loss: 392.72156765189453\n",
      "<---- Epoch - 43 ---->\n",
      "train_loss: 189.0441702364091\n",
      "validation_loss: 393.0815280333947\n",
      "<---- Epoch - 44 ---->\n",
      "train_loss: 183.52324184802455\n",
      "validation_loss: 393.3841540141082\n",
      "<---- Epoch - 45 ---->\n",
      "train_loss: 187.71219073449643\n",
      "validation_loss: 392.91136379161475\n",
      "<---- Epoch - 46 ---->\n",
      "train_loss: 188.20626428275742\n",
      "validation_loss: 393.19901877367283\n",
      "<---- Epoch - 47 ---->\n",
      "train_loss: 234.721625452723\n",
      "validation_loss: 391.70999514841077\n",
      "<---- Epoch - 48 ---->\n",
      "train_loss: 185.07874104724323\n",
      "validation_loss: 391.4261036627085\n",
      "<---- Epoch - 49 ---->\n",
      "train_loss: 257.8099993701373\n",
      "validation_loss: 390.54732775184107\n",
      "<---- Epoch - 50 ---->\n",
      "train_loss: 186.48787228623144\n",
      "validation_loss: 390.9235049090746\n"
     ]
    }
   ],
   "source": [
    "EPOCHS = 50\n",
    "\n",
    "history = {\"train_loss\": list(), \"validation_loss\": list()}\n",
    "\n",
    "for epoch in range(1, EPOCHS + 1):\n",
    "    print(f\"<---- Epoch - {epoch} ---->\")\n",
    "    \n",
    "    batch_train_loss = 0\n",
    "    \n",
    "    for train_idx, (X_train, y_train) in enumerate(train_loader):\n",
    "                \n",
    "        X_train = X_train.tolist()\n",
    "        y_train = y_train.tolist()\n",
    "        loss = 0\n",
    "        for idx, X in enumerate(X_train):\n",
    "        \n",
    "            y_hat = model(X)\n",
    "            \n",
    "            loss += model.loss(y_hat[0], y_train[idx])            \n",
    "            \n",
    "        loss *= 1 / len(X_train)\n",
    "        \n",
    "        loss.backward()\n",
    "        model.update()\n",
    "        model.zero_grad()\n",
    "        \n",
    "        batch_train_loss += loss.data\n",
    "    \n",
    "    batch_test_loss = 0\n",
    "    \n",
    "    for test_idx, (X_test, y_test) in enumerate(test_loader):\n",
    "        X_test = X_test.tolist()\n",
    "        y_test = y_test.tolist()\n",
    "        \n",
    "        loss = 0\n",
    "        for idx, X in enumerate(X_test):\n",
    "            y_hat = model(X)\n",
    "            loss += model.loss(y_hat[0], y_test[idx])\n",
    "        \n",
    "        loss *= 1 / len(X_test)\n",
    "        \n",
    "        \n",
    "        batch_test_loss += loss.data\n",
    "                    \n",
    "    history[\"train_loss\"].append(batch_train_loss)\n",
    "    history[\"validation_loss\"].append(batch_test_loss)\n",
    "    \n",
    "    print(f\"train_loss: {batch_train_loss}\")\n",
    "    print(f\"validation_loss: {batch_test_loss}\")"
   ]
  },
  {
   "cell_type": "code",
   "execution_count": 352,
   "id": "04ae6e9b",
   "metadata": {},
   "outputs": [
    {
     "data": {
      "image/png": "[encoded data removed]",
      "text/plain": [
       "<Figure size 640x480 with 1 Axes>"
      ]
     },
     "metadata": {},
     "output_type": "display_data"
    }
   ],
   "source": [
    "sns.lineplot(x=range(0, len(history[\"train_loss\"])), y=history[\"train_loss\"], label=\"Train Loss\")\n",
    "sns.lineplot(x=range(0, len(history[\"validation_loss\"])), y=history[\"validation_loss\"], label=\"Validation loss\")\n",
    "plt.legend()\n",
    "plt.show()"
   ]
  }
 ],
 "metadata": {
  "kernelspec": {
   "display_name": "Python 3 (ipykernel)",
   "language": "python",
   "name": "python3"
  },
  "language_info": {
   "codemirror_mode": {
    "name": "ipython",
    "version": 3
   },
   "file_extension": ".py",
   "mimetype": "text/x-python",
   "name": "python",
   "nbconvert_exporter": "python",
   "pygments_lexer": "ipython3",
   "version": "3.9.6"
  }
 },
 "nbformat": 4,
 "nbformat_minor": 5
}
